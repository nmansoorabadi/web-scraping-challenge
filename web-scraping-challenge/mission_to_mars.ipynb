{
 "cells": [
  {
   "cell_type": "code",
   "execution_count": 91,
   "metadata": {},
   "outputs": [],
   "source": [
    "import pandas as pd\n",
    "from bs4 import BeautifulSoup as bs  \n",
    "import requests\n",
    "from splinter import Browser"
   ]
  },
  {
   "cell_type": "markdown",
   "metadata": {},
   "source": [
    "### NASA Mars News"
   ]
  },
  {
   "cell_type": "code",
   "execution_count": 98,
   "metadata": {},
   "outputs": [],
   "source": [
    "# Collect the latest News Title and Paragraph Text\n",
    "mars_news_url=\"https://mars.nasa.gov/news/?page=0&per_page=40&order=publish_date+desc%2Ccreated_at+desc&search=&category=19%2C165%2C184%2C204&blank_scope=Latest\"\n",
    "soup= bs(response.text, 'html.parser')\n",
    "response=requests.get(mars_news_url)\n",
    "title=[]\n",
    "news_title=soup.find_all('div', class_='content_title ')\n",
    "\n",
    "\n",
    "news_p=soup.find_all('div', class_='article_teaser_body ')\n"
   ]
  },
  {
   "cell_type": "markdown",
   "metadata": {},
   "source": [
    "### JPL Mars Space Images - Featured Image"
   ]
  },
  {
   "cell_type": "code",
   "execution_count": 100,
   "metadata": {},
   "outputs": [],
   "source": [
    "# Use splinter to navigate the site and find the image url for the current Featured Mars Image\n",
    "\n",
    "featured_image_url=\"https://www.jpl.nasa.gov/spaceimages/?search=&category=Mars\"\n",
    "\n",
    "# Make sure to find the image url to the full size\n",
    "\n",
    "# Make sure to save a complete url string for this image."
   ]
  },
  {
   "cell_type": "markdown",
   "metadata": {},
   "source": [
    "### Mars weather "
   ]
  },
  {
   "cell_type": "code",
   "execution_count": 106,
   "metadata": {},
   "outputs": [],
   "source": [
    "# Save the tweet text for the weather report \n",
    "\n",
    "mars_weather_url=\"https://twitter.com/marswxreport?lang=en\"\n",
    "mars_weather=soup.find_all('header')\n"
   ]
  },
  {
   "cell_type": "markdown",
   "metadata": {},
   "source": [
    "### Mars Facts"
   ]
  },
  {
   "cell_type": "code",
   "execution_count": 101,
   "metadata": {},
   "outputs": [],
   "source": [
    "mars_fact_url=\"https://space-facts.com/mars/\"\n",
    "# use Pandas to scrape the table containing facts about the planet including Diameter, Mass, etc.\n",
    "# Use Pandas to convert the data to a HTML table string."
   ]
  },
  {
   "cell_type": "markdown",
   "metadata": {},
   "source": [
    "### Mars Hemispheres"
   ]
  },
  {
   "cell_type": "code",
   "execution_count": 104,
   "metadata": {},
   "outputs": [],
   "source": [
    "\n",
    "hemisphere_image_urls=[\n",
    "    {\"title\": \"Cerberus Hemisphere Enhanced\", \"img_url\": \"https://astrogeology.usgs.gov/search/map/Mars/Viking/cerberus_enhanced\",\n",
    "     \"title\": \"Schiaparelli Hemisphere Enhanced\",\"img_url\":\"https://astrogeology.usgs.gov/search/map/Mars/Viking/schiaparelli_enhanced\",\n",
    "     \"title\": \"Syrtis Major Hemisphere Enhanced\", \"img_url\":\"https://astrogeology.usgs.gov/search/map/Mars/Viking/syrtis_major_enhanced\",\n",
    "     \"title\": \"Valles Marineris Hemisphere Enhanced\", \"img_url\":\"https://astrogeology.usgs.gov/search/map/Mars/Viking/valles_marineris_enhanced\"}\n",
    "        \n",
    "]\n",
    "\n",
    "# Obtain high resolution images for each of Mar's hemispheres\n",
    "\n",
    "# Save both the image url string for the full resolution hemisphere image, and the Hemisphere title containing the hemisphere name\n",
    "\n",
    "# Append the dictionary with the image url string and the hemisphere title to a list"
   ]
  },
  {
   "cell_type": "markdown",
   "metadata": {},
   "source": [
    "### MongoDB and Flask Application"
   ]
  },
  {
   "cell_type": "code",
   "execution_count": 103,
   "metadata": {},
   "outputs": [],
   "source": [
    "#Use MongoDB with Flask templating to create a new HTML page that displays all of the information that was scraped from the URLs above"
   ]
  },
  {
   "cell_type": "code",
   "execution_count": null,
   "metadata": {},
   "outputs": [],
   "source": []
  }
 ],
 "metadata": {
  "kernelspec": {
   "display_name": "Python 3",
   "language": "python",
   "name": "python3"
  },
  "language_info": {
   "codemirror_mode": {
    "name": "ipython",
    "version": 3
   },
   "file_extension": ".py",
   "mimetype": "text/x-python",
   "name": "python",
   "nbconvert_exporter": "python",
   "pygments_lexer": "ipython3",
   "version": "3.7.4"
  }
 },
 "nbformat": 4,
 "nbformat_minor": 2
}
