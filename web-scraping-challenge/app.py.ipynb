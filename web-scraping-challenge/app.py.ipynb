{
 "cells": [
  {
   "cell_type": "code",
   "execution_count": 8,
   "metadata": {
    "scrolled": true
   },
   "outputs": [],
   "source": [
    "from flask import Flask, render_template, redirect\n",
    "from flask_pymongo import PyMongo\n",
    "from pymongo import MongoClient\n",
    "# import mission_to_mars"
   ]
  },
  {
   "cell_type": "code",
   "execution_count": 9,
   "metadata": {},
   "outputs": [],
   "source": [
    "#Use MongoDB with Flask templating to create a new HTML page that displays all of the information \n",
    "# that was scraped from the URLs above\n",
    "\n",
    "app = Flask(__name__)"
   ]
  },
  {
   "cell_type": "code",
   "execution_count": 10,
   "metadata": {},
   "outputs": [],
   "source": [
    "# Use flask_pymongo to set up mongo connection\n",
    "# app.config[\"MONGO_URI\"] = \"mongodb://localhost:27017/craigslist_app\"\n",
    "# mongo = PyMongo(app)\n",
    "db_url = \"mongodb://localhost:27017\"\n",
    "client = MongoClient(db_url)\n",
    "db = client.mars_mission_db"
   ]
  },
  {
   "cell_type": "code",
   "execution_count": null,
   "metadata": {},
   "outputs": [],
   "source": [
    "db_url = \"mongodb://localhost:27017\"\n",
    "client = MongoClient(db_url)\n",
    "db = client.mars_mission_db\n",
    "\n",
    "@app.route(\"/\")\n",
    "def()index():\n",
    "      mars_mission = db.mars_mission.find_one()\n",
    "    return render_template(\"index.html\", mars_mission=mars_mission)\n",
    "\n",
    "@app.route(\"/scrape\")\n",
    "def scraper():\n",
    "    mars_mission = db.mars_mission\n",
    "    mars_mission_data = scrape_mission_to_mars.scrape()\n",
    "    mars_mission.update({}, mars_mission_data, upsert=True)\n",
    "    return 'Mission accomplished'\n",
    "\n",
    "\n",
    "if __name__ == \"__main__\":\n",
    "    app.run(debug=True)"
   ]
  }
 ],
 "metadata": {
  "kernelspec": {
   "display_name": "Python 3",
   "language": "python",
   "name": "python3"
  },
  "language_info": {
   "codemirror_mode": {
    "name": "ipython",
    "version": 3
   },
   "file_extension": ".py",
   "mimetype": "text/x-python",
   "name": "python",
   "nbconvert_exporter": "python",
   "pygments_lexer": "ipython3",
   "version": "3.7.4"
  }
 },
 "nbformat": 4,
 "nbformat_minor": 2
}
