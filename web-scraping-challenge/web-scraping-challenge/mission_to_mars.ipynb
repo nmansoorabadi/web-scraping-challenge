{
 "cells": [
  {
   "cell_type": "code",
   "execution_count": 10,
   "metadata": {},
   "outputs": [],
   "source": [
    "import pandas as pd\n",
    "from bs4 import BeautifulSoup as bs  \n",
    "import requests\n",
    "from splinter import Browser\n",
    "import pymongo\n",
    "import selenium"
   ]
  },
  {
   "cell_type": "code",
   "execution_count": 11,
   "metadata": {},
   "outputs": [],
   "source": [
    "executable_path = {'executable_path': 'C:\\\\Users\\\\nmans\\\\chromedriver_win32\\\\chromedriver.exe'}\n",
    "browser = Browser('chrome', **executable_path, headless=False)"
   ]
  },
  {
   "cell_type": "markdown",
   "metadata": {},
   "source": [
    "### NASA Mars News"
   ]
  },
  {
   "cell_type": "code",
   "execution_count": 36,
   "metadata": {},
   "outputs": [],
   "source": [
    "# Collect the latest News Title and Paragraph Text\n",
    "\n",
    "mars_news_url=\"https://mars.nasa.gov/news/?page=0&per_page=40&order=publish_date+desc%2Ccreated_at+desc&search=&category=19%2C165%2C184%2C204&blank_scope=Latest\"\n",
    "response=requests.get(mars_news_url)\n",
    "# soup= bs(response.text, 'html.parser')\n",
    "soup= bs(response.text, 'lxml')\n",
    "\n",
    "news=soup.find_all('ul', class_='item_list ')\n",
    "\n",
    "news_list=[{'title':last_news.find('div', 'class_=content_title'),\n",
    "            'paragragh':last_news.find('div', class_='article_teaser_body')\n",
    "           } \n",
    "           for last_news in news]\n",
    "\n",
    "for last_news in news:\n",
    "    print(news.prettify())\n"
   ]
  },
  {
   "cell_type": "code",
   "execution_count": 54,
   "metadata": {},
   "outputs": [],
   "source": [
    "latest_news=soup.find('section', class_='content_page module ')\n",
    "news_title=soup.find('h1', class_='article_title ')\n",
    "print(news_title)\n",
    "\n",
    "\n",
    "body_text=soup.find('div', class_='wysiwyg_content ')\n",
    "print(body_text)"
   ]
  },
  {
   "cell_type": "markdown",
   "metadata": {},
   "source": [
    "### JPL Mars Space Images - Featured Image"
   ]
  },
  {
   "cell_type": "code",
   "execution_count": 42,
   "metadata": {},
   "outputs": [],
   "source": [
    "# Use splinter to navigate the site and find the image url for the current Featured Mars Image\n",
    "\n",
    "featured_image_url=\"https://www.jpl.nasa.gov/spaceimages/?search=&category=Mars\"\n",
    "# Make sure to find the image url to the full size\n",
    "\n",
    "browser.visit(featured_image_url)\n",
    "soup=bs(browser.html,'html.parser')\n",
    "\n",
    "main_img_fig=browser.find_by_id('full_image') \n",
    "main_img_fig.click()\n",
    "\n",
    "\n",
    "\n",
    "\n"
   ]
  },
  {
   "cell_type": "markdown",
   "metadata": {},
   "source": [
    "### Mars weather "
   ]
  },
  {
   "cell_type": "code",
   "execution_count": 44,
   "metadata": {},
   "outputs": [],
   "source": [
    "# Save the tweet text for the weather report \n",
    "\n",
    "mars_weather_url=\"https://twitter.com/marswxreport?lang=en\"\n",
    "browser.visit(featured_image_url)\n",
    "soup=bs(browser.html,'html.parser')\n",
    "\n",
    "mars_weather=soup.find_all('div',class_='css-1dbjc4n r-1j3t67a')\n",
    "mars_weather=soup.find_all('span',class_='css-901oao css-16my406 r-1qd0xha r-ad9z0x r-bcqeeo r-qvutc0')"
   ]
  },
  {
   "cell_type": "markdown",
   "metadata": {},
   "source": [
    "### Mars Facts"
   ]
  },
  {
   "cell_type": "code",
   "execution_count": 45,
   "metadata": {},
   "outputs": [],
   "source": [
    "mars_fact_url=\"https://space-facts.com/mars/\"\n",
    "\n",
    "browser.visit(featured_image_url)\n",
    "soup=bs(browser.html,'html.parser')\n",
    "\n",
    "# use Pandas to scrape the table containing facts about the planet including Diameter, Mass, etc.\n",
    "# Use Pandas to convert the data to a HTML table string."
   ]
  },
  {
   "cell_type": "markdown",
   "metadata": {},
   "source": [
    "### Mars Hemispheres"
   ]
  },
  {
   "cell_type": "code",
   "execution_count": 46,
   "metadata": {},
   "outputs": [],
   "source": [
    "# Obtain high resolution images for each of Mar's hemispheres\n",
    "\n",
    "hemisphere_image_urls=[\n",
    "    {\"title\": \"Cerberus Hemisphere Enhanced\", \"img_url\": \"https://astrogeology.usgs.gov/search/map/Mars/Viking/cerberus_enhanced\",\n",
    "     \"title\": \"Schiaparelli Hemisphere Enhanced\",\"img_url\":\"https://astrogeology.usgs.gov/search/map/Mars/Viking/schiaparelli_enhanced\",\n",
    "     \"title\": \"Syrtis Major Hemisphere Enhanced\", \"img_url\":\"https://astrogeology.usgs.gov/search/map/Mars/Viking/syrtis_major_enhanced\",\n",
    "     \"title\": \"Valles Marineris Hemisphere Enhanced\", \"img_url\":\"https://astrogeology.usgs.gov/search/map/Mars/Viking/valles_marineris_enhanced\"}\n",
    "        \n",
    "]\n",
    "\n",
    "\n",
    "\n",
    "# Save both the image url string for the full resolution hemisphere image, and the Hemisphere title containing the hemisphere name\n",
    "\n",
    "# Append the dictionary with the image url string and the hemisphere title to a list"
   ]
  },
  {
   "cell_type": "markdown",
   "metadata": {},
   "source": [
    "### MongoDB and Flask Application"
   ]
  },
  {
   "cell_type": "code",
   "execution_count": null,
   "metadata": {},
   "outputs": [],
   "source": [
    "#Use MongoDB with Flask templating to create a new HTML page that displays all of the information that was scraped from the URLs above\n",
    "connection='mongodb://localhost:27017'\n",
    "client=pymongo.MongoClient(connection)\n",
    "\n",
    "db=client.mars_mission_db\n",
    "\n",
    "\n",
    "\n"
   ]
  },
  {
   "cell_type": "code",
   "execution_count": null,
   "metadata": {},
   "outputs": [],
   "source": []
  }
 ],
 "metadata": {
  "kernelspec": {
   "display_name": "Python 3",
   "language": "python",
   "name": "python3"
  },
  "language_info": {
   "codemirror_mode": {
    "name": "ipython",
    "version": 3
   },
   "file_extension": ".py",
   "mimetype": "text/x-python",
   "name": "python",
   "nbconvert_exporter": "python",
   "pygments_lexer": "ipython3",
   "version": "3.7.4"
  }
 },
 "nbformat": 4,
 "nbformat_minor": 2
}
